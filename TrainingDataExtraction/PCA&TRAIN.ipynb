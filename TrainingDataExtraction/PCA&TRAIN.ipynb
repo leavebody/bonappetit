{
 "cells": [
  {
   "cell_type": "code",
   "execution_count": 50,
   "metadata": {},
   "outputs": [
    {
     "name": "stdout",
     "output_type": "stream",
     "text": [
      "Populating the interactive namespace from numpy and matplotlib\n"
     ]
    },
    {
     "name": "stderr",
     "output_type": "stream",
     "text": [
      "/Users/xiangli/anaconda3/lib/python3.6/site-packages/IPython/core/magics/pylab.py:160: UserWarning: pylab import has clobbered these variables: ['f']\n",
      "`%matplotlib` prevents importing * from pylab and numpy\n",
      "  \"\\n`%matplotlib` prevents importing * from pylab and numpy\"\n"
     ]
    },
    {
     "data": {
      "text/plain": [
       "(150, 4)"
      ]
     },
     "execution_count": 50,
     "metadata": {},
     "output_type": "execute_result"
    }
   ],
   "source": [
    "%pylab inline\n",
    "from sklearn import datasets               ## load the iris data. \n",
    "iris = datasets.load_iris()\n",
    "X = iris.data \n",
    "C = iris.target\n",
    "X.shape\n"
   ]
  },
  {
   "cell_type": "code",
   "execution_count": 51,
   "metadata": {},
   "outputs": [
    {
     "name": "stdout",
     "output_type": "stream",
     "text": [
      "./data/filename-Cashew+chicken.txt\n",
      "./data/filename-Pavlova.txt\n",
      "./data/filename-bolognese+sauce.txt\n",
      "./data/filename-ITALIAN+NACHOS.txt\n",
      "./data/filename-Greek+Salad.txt\n",
      "./data/filename-dal.txt\n",
      "./data/filename-Nem+cuon.txt\n",
      "./data/filename-Veg+Dum+Biryani.txt\n",
      "./data/filename-pho.txt\n",
      "./data/filename-Ginger+beef .txt\n",
      "./data/filename-Mapo+tofu.txt\n",
      "./data/filename-Pasta+e+fagioli.txt\n",
      "./data/filename-Caesar+Salad.txt\n",
      "./data/filename-Bruschetta+de+Flageolets .txt\n",
      "./data/filename-Spag+bol.txt\n",
      "./data/filename-Chicken+parmigiana.txt\n",
      "./data/filename-chicken+Salad.txt\n",
      "./data/filename-CARBONARA.txt\n",
      "./data/filename-Lamingtons.txt\n",
      "./data/filename-Hyd+Dum+Ka+Chicken+Biryani.txt\n",
      "./data/filename-Torta+de+Acelga.txt\n",
      "./data/filename-French+Toast.txt\n",
      "./data/filename-AFFOGATO.txt\n",
      "./data/filename-General+Zuo+chicken.txt\n",
      "./data/filename-Chicken+curry.txt\n",
      "./data/filename-mango+lessi.txt\n",
      "./data/filename-Pap+en+vleis.txt\n",
      "./data/filename-Bruschetta.txt\n",
      "./data/filename-masala.txt\n",
      "./data/filename-noodle+soup.txt\n",
      "./data/filename-Kong+pao+chicken.txt\n"
     ]
    }
   ],
   "source": [
    "## DEAL WITH DATA\n",
    "#total = np.matrix()\n",
    "import os\n",
    "import glob\n",
    "path = \"./data\"\n",
    "# 894   894    123   23\n",
    "A1 = np.zeros([1,894])\n",
    "A2 = np.zeros([1,894])\n",
    "A3 = np.zeros([1,123])\n",
    "A4 = np.zeros([1,23])\n",
    "for filename in glob.glob(os.path.join(path, '*.txt')):\n",
    "    print (filename)\n",
    "    with open(filename) as f:\n",
    "        content = f.readlines()\n",
    "# you may also want to remove whitespace characters like `\\n` at the end of each line\n",
    "        content = [x.strip() for x in content]\n",
    "        mat1 = np.array([float(s) for s in content[0].split(' ')])\n",
    "        mat2 = np.array([float(s) for s in content[1].split(' ')])\n",
    "        mat3 = np.array([float(s) for s in content[2].split(' ')])\n",
    "        mat4 = np.array([float(s) for s in content[3].split(' ')])\n",
    "        \n",
    "        A1 = vstack((A1, mat1))\n",
    "        A2 = vstack((A2, mat2))\n",
    "        A3 = vstack((A3, mat3))\n",
    "        A4 = vstack((A4, mat4))\n",
    "        \n"
   ]
  },
  {
   "cell_type": "code",
   "execution_count": 98,
   "metadata": {},
   "outputs": [],
   "source": [
    "A1 = A1.reshape([32,894])\n",
    "A2 = A2.reshape([32,894])\n",
    "A3 = A3.reshape([32,123])\n",
    "A4 = A4.reshape([32,23])\n"
   ]
  },
  {
   "cell_type": "code",
   "execution_count": 99,
   "metadata": {},
   "outputs": [],
   "source": [
    "# Normalization\n",
    "avg = mean(A1, axis=0).reshape(1,A1[1,:].size)\n",
    "A1 -= avg\n",
    "# sample covariance matrix"
   ]
  },
  {
   "cell_type": "code",
   "execution_count": 100,
   "metadata": {},
   "outputs": [
    {
     "name": "stdout",
     "output_type": "stream",
     "text": [
      "[[  1.16584663e-18  -1.34129859e-16]\n",
      " [ -2.74155491e-20   6.70655705e-18]\n",
      " [ -3.94048990e-20   1.37664563e-18]\n",
      " ..., \n",
      " [  0.00000000e+00   0.00000000e+00]\n",
      " [  0.00000000e+00   0.00000000e+00]\n",
      " [  0.00000000e+00   0.00000000e+00]] [ 0.18874548  0.14086527]\n"
     ]
    }
   ],
   "source": [
    "X = A1\n",
    "from sklearn import decomposition\n",
    "## pca do singular value decomposition, accomplishes dimentionality reduction by only keeping the top 3 e-val.\n",
    "## it also makes the data less sparse by whitening.\n",
    "pca = decomposition.PCA(n_components=2, whiten = True)\n",
    "pca.fit(X) # different convention: row vs col !!!\n",
    "print (pca.components_.T, pca.explained_variance_)\n",
    "E= L1 = pca.components_\n",
    "K = E.T.dot(E).dot(X.T)\n"
   ]
  },
  {
   "cell_type": "code",
   "execution_count": 55,
   "metadata": {},
   "outputs": [
    {
     "data": {
      "image/png": "[encoded data removed]",
      "text/plain": [
       "<matplotlib.figure.Figure at 0x1a12a554e0>"
      ]
     },
     "metadata": {},
     "output_type": "display_data"
    }
   ],
   "source": [
    "K = E.dot(X.T);\n",
    "figure(figsize=(5,5)); xlim(-10,10); ylim(-10,10);\n",
    "scatter(K[0,:],K[1,:],marker='o',s=50,alpha=0.3,edgecolor='none');"
   ]
  },
  {
   "cell_type": "code",
   "execution_count": 89,
   "metadata": {},
   "outputs": [
    {
     "name": "stdout",
     "output_type": "stream",
     "text": [
      "[[  3.48922980e-18  -7.40224939e-17  -1.03443838e-16  -1.51440276e-17]\n",
      " [  1.18975231e-18  -3.20593465e-17   5.79141326e-17   3.39995704e-17]\n",
      " [ -3.19884722e-20   4.71650764e-19  -2.14658785e-20   6.06163489e-17]\n",
      " ..., \n",
      " [  0.00000000e+00   0.00000000e+00   0.00000000e+00   0.00000000e+00]\n",
      " [  0.00000000e+00   0.00000000e+00   0.00000000e+00   0.00000000e+00]\n",
      " [  0.00000000e+00   0.00000000e+00   0.00000000e+00   0.00000000e+00]] [ 11.34590969   5.65629004   3.05623217   2.52981006]\n",
      "(4, 894) (32, 894)\n"
     ]
    }
   ],
   "source": [
    "avg = mean(A2, axis=0).reshape(1,A2[1,:].size)\n",
    "X = A2 - avg\n",
    "from sklearn import decomposition\n",
    "## pca do singular value decomposition, accomplishes dimentionality reduction by only keeping the top 3 e-val.\n",
    "## it also makes the data less sparse by whitening.\n",
    "pca = decomposition.PCA(n_components=4, whiten = True)\n",
    "pca.fit(X) # different convention: row vs col !!!\n",
    "print (pca.components_.T, pca.explained_variance_)\n",
    "E= L2 = pca.components_\n",
    "K = E.T.dot(E).dot(X.T)\n",
    "print(E.shape, X.shape)"
   ]
  },
  {
   "cell_type": "code",
   "execution_count": 64,
   "metadata": {},
   "outputs": [
    {
     "data": {
      "image/png": "[encoded data removed]",
      "text/plain": [
       "<matplotlib.figure.Figure at 0x1a12d7c2b0>"
      ]
     },
     "metadata": {},
     "output_type": "display_data"
    }
   ],
   "source": [
    "K = E.dot(X.T);\n",
    "figure(figsize=(5,5)); xlim(-10,10); ylim(-10,10);\n",
    "scatter(K[0,:],K[1,:],marker='o',s=50,alpha=0.3,edgecolor='none');"
   ]
  },
  {
   "cell_type": "code",
   "execution_count": 96,
   "metadata": {},
   "outputs": [
    {
     "name": "stdout",
     "output_type": "stream",
     "text": [
      "[[  2.74694734e-01  -4.33035862e-01  -2.18454254e-02   3.14580824e-01]\n",
      " [  3.76390495e-03   9.00731792e-03   1.95367773e-03  -3.14364600e-03]\n",
      " [  3.12694815e-02  -2.71595276e-02  -4.15438962e-02   1.14204137e-01]\n",
      " [  4.27018278e-02  -9.41833254e-02  -7.25745948e-02  -2.09309504e-02]\n",
      " [  8.22827690e-02  -1.52919370e-03   4.88925523e-03   2.86371587e-01]\n",
      " [  8.46985739e-03  -2.59114402e-02  -2.01750163e-03  -7.50648223e-02]\n",
      " [  6.30490501e-03   5.30382763e-03  -9.28281086e-04   1.73373247e-03]\n",
      " [  4.12884269e-01  -4.05526877e-01   6.51003836e-01  -2.23042700e-01]\n",
      " [  1.50099009e-01   8.10377734e-02   1.17693966e-02  -1.43541298e-01]\n",
      " [ -1.44255191e-02  -3.30510056e-04   2.67720598e-02  -9.76936445e-04]\n",
      " [  1.76358699e-02  -8.13866290e-03  -1.32169304e-02  -7.07238320e-03]\n",
      " [  3.96673222e-02  -1.62496385e-02   2.53018987e-02   1.50613797e-02]\n",
      " [  5.62264843e-02   2.71125095e-02   5.51785264e-02   1.94645866e-01]\n",
      " [ -4.26269050e-17  -2.05738571e-17   3.44620797e-17  -8.82806777e-18]\n",
      " [  4.26891105e-02  -1.30232017e-02  -2.40688703e-02  -1.11754132e-01]\n",
      " [  2.35070637e-01  -5.17357326e-01  -6.02190251e-01  -9.33036442e-02]\n",
      " [  1.86223160e-02   1.19802191e-02  -3.89722262e-03  -2.88089888e-02]\n",
      " [  7.11033306e-03  -1.20308599e-02   3.38571468e-02  -8.17663437e-03]\n",
      " [  4.70488119e-03   1.12591474e-02   2.44209717e-03  -3.92955750e-03]\n",
      " [  4.94115349e-01   2.91458142e-01   3.11786074e-02   1.71964427e-01]\n",
      " [  7.19125970e-04   2.35504688e-03  -1.22426201e-02   1.67412575e-03]\n",
      " [  1.53571618e-18  -1.12146325e-18  -4.28353918e-18  -8.90956228e-19]\n",
      " [  1.03375353e-01   3.75211259e-02  -1.82348928e-02  -6.92467157e-02]\n",
      " [  5.17433592e-02   9.69172992e-03   2.46445796e-01   5.17590580e-02]\n",
      " [  3.06584411e-18   7.57432734e-18   3.20334619e-19  -4.00864505e-18]\n",
      " [  6.10158033e-18   1.60619207e-17   5.73014749e-18  -5.91857653e-18]\n",
      " [  1.86660951e-02   2.48500537e-02  -2.05772112e-03  -2.99835902e-02]\n",
      " [ -1.74933152e-03   1.29567582e-03  -1.46176071e-03   1.67401609e-03]\n",
      " [  3.68872926e-03  -1.23555863e-02  -7.21231070e-03  -3.56261515e-03]\n",
      " [ -2.37157882e-02  -5.92341553e-02  -7.45311704e-02  -4.08734586e-02]\n",
      " [ -4.22124565e-18  -1.01017698e-17  -2.19106320e-18   3.52533874e-18]\n",
      " [ -1.74933152e-03   1.29567582e-03  -1.46176071e-03   1.67401609e-03]\n",
      " [ -2.30884636e-03   7.86873333e-03   7.87496627e-03   3.65553184e-02]\n",
      " [  1.19683533e-01   5.45745644e-02   7.68176750e-02  -1.03418767e-01]\n",
      " [  0.00000000e+00  -0.00000000e+00  -0.00000000e+00  -0.00000000e+00]\n",
      " [  5.93466557e-02   4.41394784e-02  -5.44372425e-03  -2.67419019e-02]\n",
      " [  1.65599857e-02  -2.04163087e-03   2.20922645e-02   6.59500376e-02]\n",
      " [  0.00000000e+00  -0.00000000e+00  -0.00000000e+00  -0.00000000e+00]\n",
      " [  2.61069076e-02   4.57660800e-02  -1.97629196e-02  -2.76364954e-02]\n",
      " [  0.00000000e+00  -0.00000000e+00  -0.00000000e+00  -0.00000000e+00]\n",
      " [  1.78666531e-02   2.00521902e-02  -6.01305729e-03  -2.88488929e-02]\n",
      " [  5.18175990e-04  -1.96920101e-03   5.32632795e-04  -5.76866602e-03]\n",
      " [  5.18175990e-04  -1.96920101e-03   5.32632795e-04  -5.76866602e-03]\n",
      " [  1.26736758e-02  -6.90122248e-03  -4.16013373e-04   4.72015515e-02]\n",
      " [ -3.54282977e-03   4.76366887e-03   1.13415326e-02   1.66135280e-02]\n",
      " [ -2.53689444e-02  -1.03424339e-01  -6.03015191e-02  -5.00147934e-01]\n",
      " [  7.06521068e-02  -3.88860692e-02   4.17318305e-02   2.71374703e-01]\n",
      " [  0.00000000e+00  -0.00000000e+00  -0.00000000e+00  -0.00000000e+00]\n",
      " [  3.96246925e-03  -6.65370355e-02  -3.43547171e-02  -6.16558564e-02]\n",
      " [  5.01949132e-01   3.32354021e-01  -2.36128370e-01   1.35278901e-01]\n",
      " [  0.00000000e+00  -0.00000000e+00  -0.00000000e+00  -0.00000000e+00]\n",
      " [  7.02756407e-03  -2.06425728e-02   6.94072801e-02  -1.68989131e-02]\n",
      " [ -5.38333461e-03   8.36130358e-03  -2.75683429e-03   1.51736679e-02]\n",
      " [  4.53748854e-02  -3.20116432e-02   2.48598607e-02  -7.24588149e-02]\n",
      " [ -2.01664371e-02   8.71312239e-03   1.38095766e-02  -7.72938226e-02]\n",
      " [  0.00000000e+00  -0.00000000e+00  -0.00000000e+00  -0.00000000e+00]\n",
      " [ -2.24781349e-04   1.64395498e-03  -1.16719606e-03   4.73251679e-03]\n",
      " [ -4.64768134e-03   5.38417353e-03  -1.80272180e-03   7.16708396e-03]\n",
      " [ -1.12390674e-04   8.21977490e-04  -5.83598029e-04   2.36625840e-03]\n",
      " [ -1.12390674e-04   8.21977490e-04  -5.83598029e-04   2.36625840e-03]\n",
      " [  7.89511632e-03  -7.59248206e-03  -7.47959243e-03   1.54405337e-02]\n",
      " [  2.55101061e-02  -1.44163920e-02  -1.79443968e-02  -6.19907369e-02]\n",
      " [  1.28759426e-01   5.03003457e-02  -7.70403888e-02  -2.19262771e-01]\n",
      " [  8.09261937e-02  -2.41010168e-02   7.15410178e-02  -4.41744028e-02]\n",
      " [  8.84921872e-02   9.23715449e-02  -3.42533946e-02  -3.31796796e-02]\n",
      " [  5.89444480e-02  -1.47105303e-01  -1.02643718e-01  -1.19893295e-02]\n",
      " [  8.78945999e-04  -1.44069252e-03  -2.81706474e-03   2.39274972e-03]\n",
      " [  5.90309184e-02   5.66873869e-02  -1.83155714e-02  -1.25459525e-02]\n",
      " [  0.00000000e+00  -0.00000000e+00  -0.00000000e+00  -0.00000000e+00]\n",
      " [  1.95437766e-03   6.08342643e-04   8.20085785e-04  -3.49332923e-02]\n",
      " [  1.66126061e-02  -4.20270420e-02   6.02940439e-02   1.17973370e-03]\n",
      " [  7.11117814e-03  -1.54831160e-02   5.29343520e-02   8.09880799e-03]\n",
      " [  0.00000000e+00  -0.00000000e+00  -0.00000000e+00  -0.00000000e+00]\n",
      " [ -2.18628569e-03   1.47776333e-03  -1.85709931e-04   4.24130985e-04]\n",
      " [  6.87836076e-03  -4.19627686e-03  -7.33390488e-03   3.67149350e-02]\n",
      " [  0.00000000e+00  -0.00000000e+00  -0.00000000e+00  -0.00000000e+00]\n",
      " [  1.22957642e-03  -4.11852876e-03  -2.40410357e-03  -1.18753838e-03]\n",
      " [  2.45915284e-03  -8.23705752e-03  -4.80820713e-03  -2.37507677e-03]\n",
      " [  9.59568249e-02   4.01753948e-02   1.72916911e-02  -2.37791070e-02]\n",
      " [  0.00000000e+00  -0.00000000e+00  -0.00000000e+00  -0.00000000e+00]\n",
      " [  0.00000000e+00  -0.00000000e+00  -0.00000000e+00  -0.00000000e+00]\n",
      " [  6.15262199e-03  -1.00848476e-02  -1.97194532e-02   1.67492481e-02]\n",
      " [  6.45401603e-03  -2.18679706e-02  -2.17396420e-02   1.21182576e-02]\n",
      " [  2.20232695e-01   2.18355696e-01  -1.05071424e-01  -3.48525059e-01]\n",
      " [  3.12472814e-02  -1.46501934e-01  -1.02848940e-01   6.41975124e-02]\n",
      " [ -1.74933152e-03   1.29567582e-03  -1.46176071e-03   1.67401609e-03]\n",
      " [  0.00000000e+00  -0.00000000e+00  -0.00000000e+00  -0.00000000e+00]\n",
      " [  0.00000000e+00  -0.00000000e+00  -0.00000000e+00  -0.00000000e+00]\n",
      " [ -1.96666550e-03  -1.19095001e-03   6.83229740e-03  -5.62332350e-04]\n",
      " [  1.45281026e-02   3.36194947e-03   1.01747554e-02   5.23819677e-02]\n",
      " [  0.00000000e+00  -0.00000000e+00  -0.00000000e+00  -0.00000000e+00]\n",
      " [ -1.84297376e-02   1.00527595e-02   1.32993199e-03   3.32707003e-02]\n",
      " [  0.00000000e+00  -0.00000000e+00  -0.00000000e+00  -0.00000000e+00]\n",
      " [  0.00000000e+00  -0.00000000e+00  -0.00000000e+00  -0.00000000e+00]\n",
      " [  0.00000000e+00  -0.00000000e+00  -0.00000000e+00  -0.00000000e+00]\n",
      " [  0.00000000e+00  -0.00000000e+00  -0.00000000e+00  -0.00000000e+00]\n",
      " [  5.92836034e-02   7.18199463e-02  -1.17058309e-02  -6.39835965e-02]\n",
      " [  0.00000000e+00  -0.00000000e+00  -0.00000000e+00  -0.00000000e+00]\n",
      " [  1.45281026e-02   3.36194947e-03   1.01747554e-02   5.23819677e-02]\n",
      " [  0.00000000e+00  -0.00000000e+00  -0.00000000e+00  -0.00000000e+00]\n",
      " [  0.00000000e+00  -0.00000000e+00  -0.00000000e+00  -0.00000000e+00]\n",
      " [  1.13542802e-02   2.03104303e-02  -1.78291065e-02  -7.94361701e-03]\n",
      " [  0.00000000e+00  -0.00000000e+00  -0.00000000e+00  -0.00000000e+00]\n",
      " [  7.19125970e-04   2.35504688e-03  -1.22426201e-02   1.67412575e-03]\n",
      " [  0.00000000e+00  -0.00000000e+00  -0.00000000e+00  -0.00000000e+00]\n",
      " [  0.00000000e+00  -0.00000000e+00  -0.00000000e+00  -0.00000000e+00]\n",
      " [  0.00000000e+00  -0.00000000e+00  -0.00000000e+00  -0.00000000e+00]\n",
      " [  0.00000000e+00  -0.00000000e+00  -0.00000000e+00  -0.00000000e+00]\n",
      " [  3.48674463e-03   8.06867872e-04   2.44194129e-03   1.25716722e-02]\n",
      " [ -5.84930946e-03  -4.94722936e-03  -1.53186220e-02  -7.20550864e-03]\n",
      " [  0.00000000e+00  -0.00000000e+00  -0.00000000e+00  -0.00000000e+00]\n",
      " [  1.24949222e-02  -1.83984235e-03  -4.90284498e-03  -2.95416299e-02]\n",
      " [  7.19125970e-04   2.35504688e-03  -1.22426201e-02   1.67412575e-03]\n",
      " [  4.46993804e-02   9.66053001e-03  -1.37023170e-02  -8.29226064e-02]\n",
      " [  1.75789200e-03  -2.88138504e-03  -5.63412948e-03   4.78549944e-03]\n",
      " [  0.00000000e+00  -0.00000000e+00  -0.00000000e+00  -0.00000000e+00]\n",
      " [  0.00000000e+00  -0.00000000e+00  -0.00000000e+00  -0.00000000e+00]\n",
      " [  0.00000000e+00  -0.00000000e+00  -0.00000000e+00  -0.00000000e+00]\n",
      " [  1.25143946e-01   1.33200890e-01  -4.81179327e-02  -2.13487551e-01]\n",
      " [  1.06890746e-02   1.68381857e-02  -1.62714921e-03  -1.19369956e-02]\n",
      " [  0.00000000e+00  -0.00000000e+00  -0.00000000e+00  -0.00000000e+00]\n",
      " [  3.04276977e-03  -2.23208531e-02  -4.82687950e-03  -2.67347601e-02]\n",
      " [  3.13726878e-02   1.25279682e-02   1.34153548e-02   2.72020583e-02]] [ 11.77378636   6.98192308   4.74738086   2.32890326]\n"
     ]
    }
   ],
   "source": [
    "avg = mean(A3, axis=0).reshape(1,A3[1,:].size)\n",
    "X = A3 - avg\n",
    "from sklearn import decomposition\n",
    "## pca do singular value decomposition, accomplishes dimentionality reduction by only keeping the top 3 e-val.\n",
    "## it also makes the data less sparse by whitening.\n",
    "pca = decomposition.PCA(n_components=4, whiten = True)\n",
    "pca.fit(X) # different convention: row vs col !!!\n",
    "print (pca.components_.T, pca.explained_variance_)\n",
    "E= L3 = pca.components_\n",
    "K = E.T.dot(E).dot(X.T)"
   ]
  },
  {
   "cell_type": "code",
   "execution_count": 66,
   "metadata": {},
   "outputs": [
    {
     "data": {
      "image/png": "[encoded data removed]",
      "text/plain": [
       "<matplotlib.figure.Figure at 0x1a12932518>"
      ]
     },
     "metadata": {},
     "output_type": "display_data"
    }
   ],
   "source": [
    "K = E.dot(X.T);\n",
    "figure(figsize=(5,5)); xlim(-10,10); ylim(-10,10);\n",
    "scatter(K[0,:],K[1,:],marker='o',s=50,alpha=0.3,edgecolor='none');"
   ]
  },
  {
   "cell_type": "code",
   "execution_count": 94,
   "metadata": {},
   "outputs": [
    {
     "name": "stdout",
     "output_type": "stream",
     "text": [
      "[[  6.02336620e-01  -7.12138371e-01  -3.01943743e-01   4.88013126e-02\n",
      "   -3.65377211e-03]\n",
      " [  3.38351091e-02   1.37075260e-02   6.33105335e-02  -1.10116183e-01\n",
      "    9.09762826e-02]\n",
      " [  7.14688830e-02  -8.83424430e-04   2.28706796e-02   6.57461183e-03\n",
      "   -1.66531316e-01]\n",
      " [  3.98171840e-02  -6.15447241e-02  -3.11024829e-02   3.43563963e-02\n",
      "   -5.65798249e-02]\n",
      " [  2.54380665e-01   3.37255932e-01  -2.40192385e-01  -3.36315510e-01\n",
      "   -8.45580054e-03]\n",
      " [  2.63571700e-02  -3.76169647e-04   2.05513951e-02   8.34338950e-03\n",
      "    9.83100739e-02]\n",
      " [  5.69824568e-01   1.53223572e-01   7.77365422e-01  -3.60319468e-02\n",
      "   -1.11022146e-01]\n",
      " [ -8.52454076e-03  -2.62158961e-02  -2.46344225e-03  -2.06235536e-02\n",
      "    2.52781376e-02]\n",
      " [  7.65034869e-02   5.75543437e-02  -4.52778128e-02  -5.77145123e-02\n",
      "    2.76382701e-01]\n",
      " [  3.05980167e-01   4.12102095e-01  -2.54686725e-01   7.91753423e-01\n",
      "   -7.59217331e-02]\n",
      " [  3.77335493e-04  -9.37117924e-04  -9.61011970e-03  -2.17396503e-02\n",
      "   -2.74891809e-02]\n",
      " [  9.57165323e-02   8.71333589e-02  -2.21952800e-02  -2.34290437e-01\n",
      "   -9.31160386e-04]\n",
      " [  6.98898113e-03  -1.70861227e-02  -2.85727078e-03   7.11799695e-03\n",
      "   -1.73469330e-03]\n",
      " [  2.31865307e-01   1.81013391e-01  -6.44754569e-02  -1.20351119e-01\n",
      "    6.91392647e-01]\n",
      " [  0.00000000e+00   0.00000000e+00  -2.46519033e-32  -0.00000000e+00\n",
      "    1.32348898e-23]\n",
      " [  3.84374520e-03   2.94927397e-02  -3.47345723e-02  -2.95537162e-02\n",
      "   -1.42053285e-02]\n",
      " [  1.12788994e-01   2.03865349e-01  -1.91580357e-01  -1.15634048e-01\n",
      "    2.98274618e-01]\n",
      " [  6.51186923e-02  -1.25719377e-01  -4.88045181e-02  -2.25602831e-02\n",
      "    1.41158992e-01]\n",
      " [  2.32048467e-01   2.78678301e-01  -3.56601679e-01  -3.79713587e-01\n",
      "   -5.10541639e-01]\n",
      " [ -3.89929075e-03  -2.13126592e-03   3.92069306e-04  -1.99609780e-02\n",
      "    1.76128671e-02]\n",
      " [  7.52878561e-02  -3.55011013e-02   4.19248120e-02  -9.50799387e-02\n",
      "   -8.29625460e-02]\n",
      " [ -1.48425417e-02  -4.67072575e-03   5.81922644e-03  -2.98179764e-02\n",
      "   -1.40976551e-02]\n",
      " [  0.00000000e+00  -0.00000000e+00   0.00000000e+00  -0.00000000e+00\n",
      "    0.00000000e+00]] [ 25.94189508  11.57391556   8.04318641   3.6996304    1.8566293 ]\n"
     ]
    }
   ],
   "source": [
    "avg = mean(A4, axis=0).reshape(1,A4[1,:].size)\n",
    "X = A4 - avg\n",
    "from sklearn import decomposition\n",
    "## pca do singular value decomposition, accomplishes dimentionality reduction by only keeping the top 3 e-val.\n",
    "## it also makes the data less sparse by whitening.\n",
    "pca = decomposition.PCA(n_components=5, whiten = True)\n",
    "pca.fit(X) # different convention: row vs col !!!\n",
    "print (pca.components_.T, pca.explained_variance_)\n",
    "E= L4 = pca.components_\n",
    "K = E.T.dot(E).dot(X.T)"
   ]
  },
  {
   "cell_type": "code",
   "execution_count": 92,
   "metadata": {},
   "outputs": [
    {
     "data": {
      "image/png": "[encoded data removed]",
      "text/plain": [
       "<matplotlib.figure.Figure at 0x1a12a65710>"
      ]
     },
     "metadata": {},
     "output_type": "display_data"
    }
   ],
   "source": [
    "K = E.dot(X.T);\n",
    "figure(figsize=(5,5)); xlim(-10,10); ylim(-10,10);\n",
    "scatter(K[0,:],K[1,:],marker='o',s=50,alpha=0.3,edgecolor='none');"
   ]
  },
  {
   "cell_type": "code",
   "execution_count": 102,
   "metadata": {},
   "outputs": [
    {
     "name": "stdout",
     "output_type": "stream",
     "text": [
      "(2, 894) (4, 894) (4, 123) (5, 23)\n"
     ]
    }
   ],
   "source": [
    "print(L1.shape, L2.shape, L3.shape, L4.shape)"
   ]
  },
  {
   "cell_type": "code",
   "execution_count": 105,
   "metadata": {
    "collapsed": true
   },
   "outputs": [],
   "source": [
    "np.savetxt('L1.txt', L1, delimiter=',')\n",
    "np.savetxt('L2.txt', L2, delimiter=',')\n",
    "np.savetxt('L3.txt', L3, delimiter=',')\n",
    "np.savetxt('L4.txt', L4, delimiter=',')"
   ]
  },
  {
   "cell_type": "code",
   "execution_count": 106,
   "metadata": {
    "collapsed": true
   },
   "outputs": [],
   "source": [
    "np.savetxt('L1.T.txt', L1.T, delimiter=',')\n",
    "np.savetxt('L2.T.txt', L2.T, delimiter=',')\n",
    "np.savetxt('L3.T.txt', L3.T, delimiter=',')\n",
    "np.savetxt('L4.T.txt', L4.T, delimiter=',')"
   ]
  },
  {
   "cell_type": "code",
   "execution_count": null,
   "metadata": {
    "collapsed": true
   },
   "outputs": [],
   "source": []
  }
 ],
 "metadata": {
  "kernelspec": {
   "display_name": "Python 3",
   "language": "python",
   "name": "python3"
  },
  "language_info": {
   "codemirror_mode": {
    "name": "ipython",
    "version": 3
   },
   "file_extension": ".py",
   "mimetype": "text/x-python",
   "name": "python",
   "nbconvert_exporter": "python",
   "pygments_lexer": "ipython3",
   "version": "3.6.3"
  }
 },
 "nbformat": 4,
 "nbformat_minor": 2
}
